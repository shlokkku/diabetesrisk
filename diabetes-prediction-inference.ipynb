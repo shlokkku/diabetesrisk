{
 "cells": [
  {
   "cell_type": "markdown",
   "metadata": {},
   "source": [
    "## **Diabetes Risk Prediction Inference**\n",
    "\n",
    "---"
   ]
  },
  {
   "cell_type": "markdown",
   "metadata": {},
   "source": [
    "### **I. Introduction**"
   ]
  },
  {
   "cell_type": "markdown",
   "metadata": {},
   "source": [
    "- **Author**  : Ayudha Amari Hirtranusi\n",
    "- **Dataset** : [CDC Diabetes Health Indicators](https://archive.ics.uci.edu/dataset/891/cdc+diabetes+health+indicators)\n",
    "- **Hugging Face**: [Link](https://huggingface.co/spaces/amariayudha/Diabetes_Prediction)"
   ]
  },
  {
   "cell_type": "markdown",
   "metadata": {},
   "source": [
    "---------------------\n",
    "\n",
    "**Problem Statement**\n",
    "\n",
    "The prevalence of diabetes has significantly increased, creating a public health burden. The goal is to develop a machine learning model that can predict an individual's risk of developing diabetes with 80% recall within six months, enabling better early intervention strategies.\n",
    "\n",
    "This notebook is designed to test the model's inference capabilities using the previously developed model."
   ]
  },
  {
   "cell_type": "markdown",
   "metadata": {},
   "source": [
    "### **II. Libraries**"
   ]
  },
  {
   "cell_type": "markdown",
   "metadata": {},
   "source": [
    "The libraries used to test the model are as follows:"
   ]
  },
  {
   "cell_type": "code",
   "execution_count": 1,
   "metadata": {},
   "outputs": [],
   "source": [
    "# Import Library\n",
    "import pandas as pd\n",
    "import pickle"
   ]
  },
  {
   "cell_type": "markdown",
   "metadata": {},
   "source": [
    "**Libraries Function**\n",
    "- pandas: data manipulation\n",
    "- pickle: loading model"
   ]
  },
  {
   "cell_type": "markdown",
   "metadata": {},
   "source": [
    "### **III. Data Loading**"
   ]
  },
  {
   "cell_type": "markdown",
   "metadata": {},
   "source": [
    "The initial step involves loading the model and the inference data, which have been previously separated from the model training file."
   ]
  },
  {
   "cell_type": "code",
   "execution_count": 2,
   "metadata": {},
   "outputs": [],
   "source": [
    "# Load model\n",
    "with open('tuned_model.pkl', 'rb') as model_file:\n",
    "    model = pickle.load(model_file)"
   ]
  },
  {
   "cell_type": "code",
   "execution_count": 3,
   "metadata": {},
   "outputs": [
    {
     "data": {
      "text/html": [
       "<div>\n",
       "<style scoped>\n",
       "    .dataframe tbody tr th:only-of-type {\n",
       "        vertical-align: middle;\n",
       "    }\n",
       "\n",
       "    .dataframe tbody tr th {\n",
       "        vertical-align: top;\n",
       "    }\n",
       "\n",
       "    .dataframe thead th {\n",
       "        text-align: right;\n",
       "    }\n",
       "</style>\n",
       "<table border=\"1\" class=\"dataframe\">\n",
       "  <thead>\n",
       "    <tr style=\"text-align: right;\">\n",
       "      <th></th>\n",
       "      <th>ID</th>\n",
       "      <th>HighBP</th>\n",
       "      <th>HighChol</th>\n",
       "      <th>CholCheck</th>\n",
       "      <th>BMI</th>\n",
       "      <th>Smoker</th>\n",
       "      <th>Stroke</th>\n",
       "      <th>HeartDiseaseorAttack</th>\n",
       "      <th>PhysActivity</th>\n",
       "      <th>Fruits</th>\n",
       "      <th>...</th>\n",
       "      <th>AnyHealthcare</th>\n",
       "      <th>NoDocbcCost</th>\n",
       "      <th>GenHlth</th>\n",
       "      <th>MentHlth</th>\n",
       "      <th>PhysHlth</th>\n",
       "      <th>DiffWalk</th>\n",
       "      <th>Sex</th>\n",
       "      <th>Age</th>\n",
       "      <th>Education</th>\n",
       "      <th>Income</th>\n",
       "    </tr>\n",
       "  </thead>\n",
       "  <tbody>\n",
       "    <tr>\n",
       "      <th>0</th>\n",
       "      <td>1</td>\n",
       "      <td>1</td>\n",
       "      <td>1</td>\n",
       "      <td>1</td>\n",
       "      <td>30</td>\n",
       "      <td>1</td>\n",
       "      <td>0</td>\n",
       "      <td>0</td>\n",
       "      <td>0</td>\n",
       "      <td>0</td>\n",
       "      <td>...</td>\n",
       "      <td>1</td>\n",
       "      <td>0</td>\n",
       "      <td>3</td>\n",
       "      <td>5</td>\n",
       "      <td>10</td>\n",
       "      <td>0</td>\n",
       "      <td>1</td>\n",
       "      <td>9</td>\n",
       "      <td>4</td>\n",
       "      <td>5</td>\n",
       "    </tr>\n",
       "    <tr>\n",
       "      <th>1</th>\n",
       "      <td>2</td>\n",
       "      <td>0</td>\n",
       "      <td>0</td>\n",
       "      <td>1</td>\n",
       "      <td>25</td>\n",
       "      <td>0</td>\n",
       "      <td>0</td>\n",
       "      <td>0</td>\n",
       "      <td>1</td>\n",
       "      <td>1</td>\n",
       "      <td>...</td>\n",
       "      <td>1</td>\n",
       "      <td>0</td>\n",
       "      <td>2</td>\n",
       "      <td>0</td>\n",
       "      <td>0</td>\n",
       "      <td>0</td>\n",
       "      <td>0</td>\n",
       "      <td>7</td>\n",
       "      <td>6</td>\n",
       "      <td>8</td>\n",
       "    </tr>\n",
       "    <tr>\n",
       "      <th>2</th>\n",
       "      <td>3</td>\n",
       "      <td>1</td>\n",
       "      <td>1</td>\n",
       "      <td>1</td>\n",
       "      <td>35</td>\n",
       "      <td>0</td>\n",
       "      <td>1</td>\n",
       "      <td>1</td>\n",
       "      <td>0</td>\n",
       "      <td>0</td>\n",
       "      <td>...</td>\n",
       "      <td>1</td>\n",
       "      <td>1</td>\n",
       "      <td>4</td>\n",
       "      <td>15</td>\n",
       "      <td>20</td>\n",
       "      <td>1</td>\n",
       "      <td>1</td>\n",
       "      <td>11</td>\n",
       "      <td>3</td>\n",
       "      <td>2</td>\n",
       "    </tr>\n",
       "  </tbody>\n",
       "</table>\n",
       "<p>3 rows × 22 columns</p>\n",
       "</div>"
      ],
      "text/plain": [
       "   ID  HighBP  HighChol  CholCheck  BMI  Smoker  Stroke  HeartDiseaseorAttack  \\\n",
       "0   1       1         1          1   30       1       0                     0   \n",
       "1   2       0         0          1   25       0       0                     0   \n",
       "2   3       1         1          1   35       0       1                     1   \n",
       "\n",
       "   PhysActivity  Fruits  ...  AnyHealthcare  NoDocbcCost  GenHlth  MentHlth  \\\n",
       "0             0       0  ...              1            0        3         5   \n",
       "1             1       1  ...              1            0        2         0   \n",
       "2             0       0  ...              1            1        4        15   \n",
       "\n",
       "   PhysHlth  DiffWalk  Sex  Age  Education  Income  \n",
       "0        10         0    1    9          4       5  \n",
       "1         0         0    0    7          6       8  \n",
       "2        20         1    1   11          3       2  \n",
       "\n",
       "[3 rows x 22 columns]"
      ]
     },
     "execution_count": 3,
     "metadata": {},
     "output_type": "execute_result"
    }
   ],
   "source": [
    "# Define new data for inference\n",
    "data = {'ID': [1, 2, 3],\n",
    "        'HighBP': [1, 0, 1],\n",
    "        'HighChol': [1, 0, 1],\n",
    "        'CholCheck': [1, 1, 1],\n",
    "        'BMI': [30, 25, 35],\n",
    "        'Smoker': [1, 0, 0],\n",
    "        'Stroke': [0, 0, 1],\n",
    "        'HeartDiseaseorAttack': [0, 0, 1],\n",
    "        'PhysActivity': [0, 1, 0],\n",
    "        'Fruits': [0, 1, 0],\n",
    "        'Veggies': [1, 1, 0],\n",
    "        'HvyAlcoholConsump': [0, 0, 0],\n",
    "        'AnyHealthcare': [1, 1, 1],\n",
    "        'NoDocbcCost': [0, 0, 1],\n",
    "        'GenHlth': [3, 2, 4],\n",
    "        'MentHlth': [5, 0, 15],\n",
    "        'PhysHlth': [10, 0, 20],\n",
    "        'DiffWalk': [0, 0, 1],\n",
    "        'Sex': [1, 0, 1],\n",
    "        'Age': [9, 7, 11],\n",
    "        'Education': [4, 6, 3],\n",
    "        'Income': [5, 8, 2]}\n",
    "\n",
    "# Create the DataFrame\n",
    "df = pd.DataFrame(data)\n",
    "\n",
    "# Print the DataFrame\n",
    "df"
   ]
  },
  {
   "cell_type": "markdown",
   "metadata": {},
   "source": [
    "### **IV. Model Prediction**"
   ]
  },
  {
   "cell_type": "markdown",
   "metadata": {},
   "source": [
    "Since the model handles preprocessing within the pipeline, there's no need to separately preprocess the data. The next step is simply using the saved model for making predictions."
   ]
  },
  {
   "cell_type": "code",
   "execution_count": 4,
   "metadata": {},
   "outputs": [
    {
     "name": "stdout",
     "output_type": "stream",
     "text": [
      "[1 0 1]\n"
     ]
    }
   ],
   "source": [
    "# Predict using the tuned model\n",
    "y_pred_inf = model.predict(df)\n",
    "\n",
    "print(y_pred_inf)"
   ]
  },
  {
   "cell_type": "code",
   "execution_count": 5,
   "metadata": {},
   "outputs": [
    {
     "name": "stdout",
     "output_type": "stream",
     "text": [
      "Prediction for individual 1: Diabetes\n",
      "Prediction for individual 2: No Diabetes\n",
      "Prediction for individual 3: Diabetes\n"
     ]
    }
   ],
   "source": [
    "# Print the predictions\n",
    "for idx, pred in enumerate(y_pred_inf):\n",
    "    if pred == 0:\n",
    "        print(f'Prediction for individual {idx+1}: No Diabetes')\n",
    "    elif pred == 1:\n",
    "        print(f'Prediction for individual {idx+1}: Diabetes')"
   ]
  },
  {
   "cell_type": "markdown",
   "metadata": {},
   "source": [
    "### **V. Conclusion**"
   ]
  },
  {
   "cell_type": "markdown",
   "metadata": {},
   "source": [
    "The model is able to predict the diabetes status of the raw unseen data, as demonstrated by the example showing predictions for three individuals with varying health indicators. The predictions of our model for individuals 1, 2, and 3 are **Diabetes**, **No Diabetes**, and **Diabetes** respectively. This means that, using the input data we have for inference, the model predicts that the second individuals do not have diabetes, while the first third individual is likely to have diabetes.\n",
    "\n",
    "These predictions demonstrate the model's **ability to consider multiple factors** and their **complex interactions** in determining diabetes risk. However, it's important to note that these are predictions based on **statistical patterns** or **machine learning model**, and should not be considered as **definitive medical diagnoses**. Always consult with healthcare professionals for accurate medical assessments."
   ]
  }
 ],
 "metadata": {
  "kernelspec": {
   "display_name": "Python 3",
   "language": "python",
   "name": "python3"
  },
  "language_info": {
   "codemirror_mode": {
    "name": "ipython",
    "version": 3
   },
   "file_extension": ".py",
   "mimetype": "text/x-python",
   "name": "python",
   "nbconvert_exporter": "python",
   "pygments_lexer": "ipython3",
   "version": "3.9.16"
  }
 },
 "nbformat": 4,
 "nbformat_minor": 2
}
